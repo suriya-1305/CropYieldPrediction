{
  "nbformat": 4,
  "nbformat_minor": 0,
  "metadata": {
    "colab": {
      "name": "Productivity_of_crop.ipynb",
      "provenance": []
    },
    "kernelspec": {
      "name": "python3",
      "display_name": "Python 3"
    },
    "language_info": {
      "name": "python"
    }
  },
  "cells": [
    {
      "cell_type": "code",
      "execution_count": 18,
      "metadata": {
        "colab": {
          "base_uri": "https://localhost:8080/",
          "height": 206
        },
        "id": "2wtbaIRDiv86",
        "outputId": "055aa135-66ea-49e2-d122-96eac17cacee"
      },
      "outputs": [
        {
          "output_type": "execute_result",
          "data": {
            "text/html": [
              "\n",
              "  <div id=\"df-6daff106-7ea0-4809-8720-ccd9eae206f0\">\n",
              "    <div class=\"colab-df-container\">\n",
              "      <div>\n",
              "<style scoped>\n",
              "    .dataframe tbody tr th:only-of-type {\n",
              "        vertical-align: middle;\n",
              "    }\n",
              "\n",
              "    .dataframe tbody tr th {\n",
              "        vertical-align: top;\n",
              "    }\n",
              "\n",
              "    .dataframe thead th {\n",
              "        text-align: right;\n",
              "    }\n",
              "</style>\n",
              "<table border=\"1\" class=\"dataframe\">\n",
              "  <thead>\n",
              "    <tr style=\"text-align: right;\">\n",
              "      <th></th>\n",
              "      <th>crops</th>\n",
              "      <th>area</th>\n",
              "      <th>production_tonn</th>\n",
              "      <th>productivity</th>\n",
              "    </tr>\n",
              "  </thead>\n",
              "  <tbody>\n",
              "    <tr>\n",
              "      <th>0</th>\n",
              "      <td>kuruvai</td>\n",
              "      <td>293030</td>\n",
              "      <td>1046910</td>\n",
              "      <td>3573</td>\n",
              "    </tr>\n",
              "    <tr>\n",
              "      <th>1</th>\n",
              "      <td>kuruvai</td>\n",
              "      <td>335715</td>\n",
              "      <td>1384666</td>\n",
              "      <td>4125</td>\n",
              "    </tr>\n",
              "    <tr>\n",
              "      <th>2</th>\n",
              "      <td>kuruvai</td>\n",
              "      <td>209758</td>\n",
              "      <td>833149</td>\n",
              "      <td>3972</td>\n",
              "    </tr>\n",
              "    <tr>\n",
              "      <th>3</th>\n",
              "      <td>kuruvai</td>\n",
              "      <td>290683</td>\n",
              "      <td>1258422</td>\n",
              "      <td>4329</td>\n",
              "    </tr>\n",
              "    <tr>\n",
              "      <th>4</th>\n",
              "      <td>kuruvai</td>\n",
              "      <td>295402</td>\n",
              "      <td>1382550</td>\n",
              "      <td>4680</td>\n",
              "    </tr>\n",
              "  </tbody>\n",
              "</table>\n",
              "</div>\n",
              "      <button class=\"colab-df-convert\" onclick=\"convertToInteractive('df-6daff106-7ea0-4809-8720-ccd9eae206f0')\"\n",
              "              title=\"Convert this dataframe to an interactive table.\"\n",
              "              style=\"display:none;\">\n",
              "        \n",
              "  <svg xmlns=\"http://www.w3.org/2000/svg\" height=\"24px\"viewBox=\"0 0 24 24\"\n",
              "       width=\"24px\">\n",
              "    <path d=\"M0 0h24v24H0V0z\" fill=\"none\"/>\n",
              "    <path d=\"M18.56 5.44l.94 2.06.94-2.06 2.06-.94-2.06-.94-.94-2.06-.94 2.06-2.06.94zm-11 1L8.5 8.5l.94-2.06 2.06-.94-2.06-.94L8.5 2.5l-.94 2.06-2.06.94zm10 10l.94 2.06.94-2.06 2.06-.94-2.06-.94-.94-2.06-.94 2.06-2.06.94z\"/><path d=\"M17.41 7.96l-1.37-1.37c-.4-.4-.92-.59-1.43-.59-.52 0-1.04.2-1.43.59L10.3 9.45l-7.72 7.72c-.78.78-.78 2.05 0 2.83L4 21.41c.39.39.9.59 1.41.59.51 0 1.02-.2 1.41-.59l7.78-7.78 2.81-2.81c.8-.78.8-2.07 0-2.86zM5.41 20L4 18.59l7.72-7.72 1.47 1.35L5.41 20z\"/>\n",
              "  </svg>\n",
              "      </button>\n",
              "      \n",
              "  <style>\n",
              "    .colab-df-container {\n",
              "      display:flex;\n",
              "      flex-wrap:wrap;\n",
              "      gap: 12px;\n",
              "    }\n",
              "\n",
              "    .colab-df-convert {\n",
              "      background-color: #E8F0FE;\n",
              "      border: none;\n",
              "      border-radius: 50%;\n",
              "      cursor: pointer;\n",
              "      display: none;\n",
              "      fill: #1967D2;\n",
              "      height: 32px;\n",
              "      padding: 0 0 0 0;\n",
              "      width: 32px;\n",
              "    }\n",
              "\n",
              "    .colab-df-convert:hover {\n",
              "      background-color: #E2EBFA;\n",
              "      box-shadow: 0px 1px 2px rgba(60, 64, 67, 0.3), 0px 1px 3px 1px rgba(60, 64, 67, 0.15);\n",
              "      fill: #174EA6;\n",
              "    }\n",
              "\n",
              "    [theme=dark] .colab-df-convert {\n",
              "      background-color: #3B4455;\n",
              "      fill: #D2E3FC;\n",
              "    }\n",
              "\n",
              "    [theme=dark] .colab-df-convert:hover {\n",
              "      background-color: #434B5C;\n",
              "      box-shadow: 0px 1px 3px 1px rgba(0, 0, 0, 0.15);\n",
              "      filter: drop-shadow(0px 1px 2px rgba(0, 0, 0, 0.3));\n",
              "      fill: #FFFFFF;\n",
              "    }\n",
              "  </style>\n",
              "\n",
              "      <script>\n",
              "        const buttonEl =\n",
              "          document.querySelector('#df-6daff106-7ea0-4809-8720-ccd9eae206f0 button.colab-df-convert');\n",
              "        buttonEl.style.display =\n",
              "          google.colab.kernel.accessAllowed ? 'block' : 'none';\n",
              "\n",
              "        async function convertToInteractive(key) {\n",
              "          const element = document.querySelector('#df-6daff106-7ea0-4809-8720-ccd9eae206f0');\n",
              "          const dataTable =\n",
              "            await google.colab.kernel.invokeFunction('convertToInteractive',\n",
              "                                                     [key], {});\n",
              "          if (!dataTable) return;\n",
              "\n",
              "          const docLinkHtml = 'Like what you see? Visit the ' +\n",
              "            '<a target=\"_blank\" href=https://colab.research.google.com/notebooks/data_table.ipynb>data table notebook</a>'\n",
              "            + ' to learn more about interactive tables.';\n",
              "          element.innerHTML = '';\n",
              "          dataTable['output_type'] = 'display_data';\n",
              "          await google.colab.output.renderOutput(dataTable, element);\n",
              "          const docLink = document.createElement('div');\n",
              "          docLink.innerHTML = docLinkHtml;\n",
              "          element.appendChild(docLink);\n",
              "        }\n",
              "      </script>\n",
              "    </div>\n",
              "  </div>\n",
              "  "
            ],
            "text/plain": [
              "     crops    area  production_tonn  productivity\n",
              "0  kuruvai  293030          1046910          3573\n",
              "1  kuruvai  335715          1384666          4125\n",
              "2  kuruvai  209758           833149          3972\n",
              "3  kuruvai  290683          1258422          4329\n",
              "4  kuruvai  295402          1382550          4680"
            ]
          },
          "metadata": {},
          "execution_count": 18
        }
      ],
      "source": [
        "import pandas as pd\n",
        "import numpy as np\n",
        "import matplotlib.pyplot as plt\n",
        "\n",
        "from sklearn import preprocessing\n",
        "from sklearn.preprocessing import OneHotEncoder\n",
        "\n",
        "from sklearn.model_selection import train_test_split\n",
        "from sklearn import utils\n",
        "datainput = pd.read_csv(\"areavsprod.csv\")\n",
        "datainput.head()"
      ]
    },
    {
      "cell_type": "code",
      "source": [
        "#label encoder to categorical data \n",
        "labelencoder_X = preprocessing.LabelEncoder()\n",
        "datainput['crops'] = labelencoder_X.fit_transform(datainput['crops'])"
      ],
      "metadata": {
        "id": "8X5Eb0lo_fO6"
      },
      "execution_count": 21,
      "outputs": []
    },
    {
      "cell_type": "code",
      "source": [
        "x2 = datainput.drop('productivity',axis=1)\n",
        "y = datainput['productivity']\n",
        "\n",
        "from sklearn.preprocessing import StandardScaler\n",
        "sc = StandardScaler()\n",
        "x3 = sc.fit_transform(x2)\n",
        "#Splitting\n",
        "X_train, X_test, y_train, y_test = train_test_split(x3, y, test_size=0.3, random_state=3)"
      ],
      "metadata": {
        "id": "5KUVCiUpjQiv"
      },
      "execution_count": 22,
      "outputs": []
    },
    {
      "cell_type": "code",
      "source": [
        "#MULTI LINEAR REGRESSION\n",
        "from sklearn.linear_model import LinearRegression\n",
        "from sklearn.metrics import r2_score\n",
        "from sklearn.metrics import mean_squared_error\n",
        "\n",
        "LR = LinearRegression()\n",
        "LR.fit(X_train,y_train)\n",
        "y_pred = LR.predict(X_test) \n",
        "# predicting the accuracy score\n",
        "score=r2_score(y_test,y_pred)\n",
        "print('R2 score  is ',score)\n",
        "print('mean_sqrd_error is==',mean_squared_error(y_test,y_pred))\n",
        "print('root_mean_squared error of is==',np.sqrt(mean_squared_error(y_test,y_pred)))"
      ],
      "metadata": {
        "colab": {
          "base_uri": "https://localhost:8080/"
        },
        "id": "8WEbCqS2jaMr",
        "outputId": "d152c00f-9594-4492-c461-d7cc82de2e4f"
      },
      "execution_count": 20,
      "outputs": [
        {
          "output_type": "stream",
          "name": "stdout",
          "text": [
            "R2 score  is  0.024707699848330877\n",
            "mean_sqrd_error is== 169438992.53619453\n",
            "root_mean_squared error of is== 13016.873377896649\n"
          ]
        }
      ]
    },
    {
      "cell_type": "code",
      "source": [
        "#LOGISTIC REGRESSION\n",
        "from sklearn.linear_model import LogisticRegression \n",
        "from sklearn.metrics import confusion_matrix\n",
        "\n",
        "classifier = LogisticRegression(random_state = 0) \n",
        "classifier.fit(X_train, y_train) \n",
        "y_pred = classifier.predict(X_test) \n",
        "print(\"R2 score =\", round(r2_score(y_test, y_pred), 2))"
      ],
      "metadata": {
        "colab": {
          "base_uri": "https://localhost:8080/"
        },
        "id": "Zkj8d9afjhLi",
        "outputId": "a7afb371-7d57-4e7b-a201-1a8b3b5bac81"
      },
      "execution_count": 13,
      "outputs": [
        {
          "output_type": "stream",
          "name": "stdout",
          "text": [
            "R2 score = -0.26\n"
          ]
        }
      ]
    },
    {
      "cell_type": "code",
      "source": [
        "#Decision Tree Classifier\n",
        "from sklearn.tree import DecisionTreeClassifier\n",
        "classifier = DecisionTreeClassifier()\n",
        "classifier.fit(X_train, y_train)\n",
        "y_pred = classifier.predict(X_test)\n",
        "print(\"R2 score =\", round(r2_score(y_test, y_pred), 2))"
      ],
      "metadata": {
        "colab": {
          "base_uri": "https://localhost:8080/"
        },
        "id": "c8_Xc1RVjldZ",
        "outputId": "efc189a1-983d-4da2-bc22-2c398a1c89b1"
      },
      "execution_count": 14,
      "outputs": [
        {
          "output_type": "stream",
          "name": "stdout",
          "text": [
            "R2 score = 0.87\n"
          ]
        }
      ]
    },
    {
      "cell_type": "code",
      "source": [
        "#Decision Tree Regressor\n",
        "from sklearn.tree import DecisionTreeRegressor \n",
        "regressor = DecisionTreeRegressor()\n",
        "regressor.fit(X_train, y_train)\n",
        "y_pred = regressor.predict(X_test)\n",
        "\n",
        "print(\"R2 score =\", round(r2_score(y_test, y_pred), 2))"
      ],
      "metadata": {
        "colab": {
          "base_uri": "https://localhost:8080/"
        },
        "id": "MVWbUaTczWja",
        "outputId": "75d0c7f6-fea1-4759-8a18-ebccfe07af18"
      },
      "execution_count": 15,
      "outputs": [
        {
          "output_type": "stream",
          "name": "stdout",
          "text": [
            "R2 score = 0.85\n"
          ]
        }
      ]
    },
    {
      "cell_type": "code",
      "source": [
        "#KMEANS CLUSTERING\n",
        "from sklearn.neighbors import KNeighborsClassifier \n",
        "knn = KNeighborsClassifier(n_neighbors=7) \n",
        "knn.fit(X_train, y_train) \n",
        "  \n",
        "# Predict on dataset which model has not seen before \n",
        "print(knn.predict(X_test)) \n",
        "print(knn.score(X_test, y_test)) \n",
        "\n",
        "from sklearn.cluster import KMeans\n",
        "wcss = []\n",
        "for i in range(1, 30):\n",
        "    kmeans = KMeans(n_clusters = i, init = 'k-means++', random_state = 42)\n",
        "    kmeans.fit(x3)\n",
        "    wcss.append(kmeans.inertia_)\n",
        "    \n",
        "plt.plot(range(1, 30), wcss)\n",
        "plt.title('The Elbow Method')\n",
        "plt.xlabel('Number of clusters')\n",
        "plt.ylabel('WCSS')\n",
        "plt.show()\n",
        "\n",
        "kmeans = KMeans(n_clusters = 3, init = 'k-means++', random_state = 42)\n",
        "y_kmeans = kmeans.fit_predict(x3)"
      ],
      "metadata": {
        "colab": {
          "base_uri": "https://localhost:8080/",
          "height": 537
        },
        "id": "9YqzFgDezaBe",
        "outputId": "9f701fab-7904-4b5c-e7d4-92c6767df1fe"
      },
      "execution_count": 10,
      "outputs": [
        {
          "output_type": "stream",
          "name": "stdout",
          "text": [
            "[ 2406   404    91   895  1414 12068   401   229    91   404   401   229\n",
            "   470   231    91   219    91   236   231   219    90  2406   562 15408\n",
            "   220  4641   573   401   231   219   219  3563   305   231    91  1155\n",
            "   926    90   392   392  3740   219 10638    87   231  1325  8978  1963\n",
            "   944   231  1325   926   219   978  4488  7232  4488   219   404   404\n",
            "   312   392    91 33287   219    90   312   410  1963   699   312  2058\n",
            "  8519  7232   263  8519  5780  3252    91  8978    91   236    87  3563\n",
            "  2406   336   617   404  8519  3252   645    91   580   978 11691 26338\n",
            "  9312   306   336 26338  4488   404  3563   548 12068 12068  8978   231\n",
            "   518   895   645   573   459   518  7232   699   220   220   573  3252\n",
            " 26338  8978   404   312  1963   224   926  2406  1963   392   236   478\n",
            "   312   229   220   219  3563   336   573   573  8978 17848   944 33287\n",
            "    91    91  9312    87    91   401  9312   401   978]\n",
            "0.0196078431372549\n"
          ]
        },
        {
          "output_type": "display_data",
          "data": {
            "image/png": "[encoded data removed]",
            "text/plain": [
              "<Figure size 432x288 with 1 Axes>"
            ]
          },
          "metadata": {
            "needs_background": "light"
          }
        }
      ]
    },
    {
      "cell_type": "code",
      "source": [
        "#RANDOM FOREST \n",
        "from sklearn.ensemble import RandomForestClassifier\n",
        "\n",
        "classifier = RandomForestClassifier(n_estimators = 101, random_state = 42)\n",
        "classifier.fit(X_train, y_train)\n",
        "# Predicting a new result\n",
        "y_pred = classifier.predict(X_test)\n",
        "print(\"R2 score =\", round(r2_score(y_test, y_pred), 2))"
      ],
      "metadata": {
        "colab": {
          "base_uri": "https://localhost:8080/"
        },
        "id": "g48dPz1lz7mZ",
        "outputId": "b28acae5-f3cd-42c2-c110-1f030fb553f1"
      },
      "execution_count": 25,
      "outputs": [
        {
          "output_type": "stream",
          "name": "stdout",
          "text": [
            "R2 score = 0.91\n"
          ]
        }
      ]
    },
    {
      "cell_type": "code",
      "source": [
        "import pickle\n",
        "pickle.dump(classifier, open('productivityrandomforest.sav', 'wb'))"
      ],
      "metadata": {
        "id": "xcSRr2J04IpQ"
      },
      "execution_count": 27,
      "outputs": []
    },
    {
      "cell_type": "code",
      "source": [
        "#KNN CLASSIFICATION\n",
        "from sklearn import neighbors\n",
        "from sklearn.metrics import mean_squared_error \n",
        "from math import sqrt\n",
        "import matplotlib.pyplot as plt\n",
        "\n",
        "rmse_val = [] #to store rmse values for different k\n",
        "for K in range(20):\n",
        "    K = K+1\n",
        "    model = neighbors.KNeighborsRegressor(n_neighbors = K)\n",
        "\n",
        "    model.fit(X_train, y_train)  #fit the model\n",
        "    pred=model.predict(X_test) #make prediction on test set\n",
        "    error = sqrt(mean_squared_error(y_test,pred)) #calculate rmse\n",
        "    rmse_val.append(error) #store rmse values\n",
        "    print('RMSE value for k= ' , K , 'is:', error)\n",
        "\n",
        "curve = pd.DataFrame(rmse_val) #elbow curve \n",
        "curve.plot()\n",
        "\n",
        "from sklearn.neighbors import KNeighborsClassifier\n",
        "\n",
        "regressor = neighbors.KNeighborsRegressor(n_neighbors = 4)\n",
        "regressor.fit(X_train, y_train)\n",
        "\n",
        "# Predicting the Test set results\n",
        "y_pred = regressor.predict(X_test)\n",
        "error = sqrt(mean_squared_error(y_test,y_pred)) #calculate rmse\n",
        "rmse_val.append(error)\n",
        "\n",
        "print(error)"
      ],
      "metadata": {
        "colab": {
          "base_uri": "https://localhost:8080/",
          "height": 630
        },
        "id": "XHwVO7tX0BYC",
        "outputId": "67c9981a-1365-40bd-d183-8a33bbd5d02a"
      },
      "execution_count": 17,
      "outputs": [
        {
          "output_type": "stream",
          "name": "stdout",
          "text": [
            "RMSE value for k=  1 is: 4165.712111835479\n",
            "RMSE value for k=  2 is: 3208.640730371867\n",
            "RMSE value for k=  3 is: 2995.903634186258\n",
            "RMSE value for k=  4 is: 3403.33386127831\n",
            "RMSE value for k=  5 is: 3766.8230184797667\n",
            "RMSE value for k=  6 is: 4635.799710520711\n",
            "RMSE value for k=  7 is: 5890.654953481749\n",
            "RMSE value for k=  8 is: 7024.348627402927\n",
            "RMSE value for k=  9 is: 8276.290423476396\n",
            "RMSE value for k=  10 is: 9253.094919517895\n",
            "RMSE value for k=  11 is: 9498.94505774555\n",
            "RMSE value for k=  12 is: 9544.95668636863\n",
            "RMSE value for k=  13 is: 9548.267599480738\n",
            "RMSE value for k=  14 is: 9641.682331189419\n",
            "RMSE value for k=  15 is: 9724.457997006364\n",
            "RMSE value for k=  16 is: 9960.027002975188\n",
            "RMSE value for k=  17 is: 10255.938820012216\n",
            "RMSE value for k=  18 is: 10434.98785295342\n",
            "RMSE value for k=  19 is: 10612.161463173476\n",
            "RMSE value for k=  20 is: 10788.5745567348\n",
            "3403.33386127831\n"
          ]
        },
        {
          "output_type": "display_data",
          "data": {
            "image/png": "[encoded data removed]",
            "text/plain": [
              "<Figure size 432x288 with 1 Axes>"
            ]
          },
          "metadata": {
            "needs_background": "light"
          }
        }
      ]
    }
  ]
}
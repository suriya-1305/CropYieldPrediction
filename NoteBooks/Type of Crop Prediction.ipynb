{
  "nbformat": 4,
  "nbformat_minor": 0,
  "metadata": {
    "colab": {
      "name": "TN CROP PRODUCTION DATA.ipynb",
      "provenance": []
    },
    "kernelspec": {
      "name": "python3",
      "display_name": "Python 3"
    },
    "language_info": {
      "name": "python"
    }
  },
  "cells": [
    {
      "cell_type": "code",
      "execution_count": 1,
      "metadata": {
        "colab": {
          "base_uri": "https://localhost:8080/",
          "height": 206
        },
        "id": "fVeQvSwPt4Z5",
        "outputId": "e152b73b-2ada-44d1-df12-10c0e152cba5"
      },
      "outputs": [
        {
          "output_type": "execute_result",
          "data": {
            "text/html": [
              "\n",
              "  <div id=\"df-dc5a1e58-db5c-4096-bd46-588204f68704\">\n",
              "    <div class=\"colab-df-container\">\n",
              "      <div>\n",
              "<style scoped>\n",
              "    .dataframe tbody tr th:only-of-type {\n",
              "        vertical-align: middle;\n",
              "    }\n",
              "\n",
              "    .dataframe tbody tr th {\n",
              "        vertical-align: top;\n",
              "    }\n",
              "\n",
              "    .dataframe thead th {\n",
              "        text-align: right;\n",
              "    }\n",
              "</style>\n",
              "<table border=\"1\" class=\"dataframe\">\n",
              "  <thead>\n",
              "    <tr style=\"text-align: right;\">\n",
              "      <th></th>\n",
              "      <th>Phosphorus</th>\n",
              "      <th>Nitrogen</th>\n",
              "      <th>Potassium</th>\n",
              "      <th>ph</th>\n",
              "      <th>humidity</th>\n",
              "      <th>temperature</th>\n",
              "      <th>rainfall</th>\n",
              "      <th>crops</th>\n",
              "    </tr>\n",
              "  </thead>\n",
              "  <tbody>\n",
              "    <tr>\n",
              "      <th>0</th>\n",
              "      <td>128</td>\n",
              "      <td>24</td>\n",
              "      <td>196</td>\n",
              "      <td>5.521467</td>\n",
              "      <td>90.694892</td>\n",
              "      <td>22.750888</td>\n",
              "      <td>110.431786</td>\n",
              "      <td>apple</td>\n",
              "    </tr>\n",
              "    <tr>\n",
              "      <th>1</th>\n",
              "      <td>144</td>\n",
              "      <td>7</td>\n",
              "      <td>197</td>\n",
              "      <td>6.133221</td>\n",
              "      <td>94.348150</td>\n",
              "      <td>23.849401</td>\n",
              "      <td>114.051249</td>\n",
              "      <td>apple</td>\n",
              "    </tr>\n",
              "    <tr>\n",
              "      <th>2</th>\n",
              "      <td>128</td>\n",
              "      <td>14</td>\n",
              "      <td>205</td>\n",
              "      <td>6.226290</td>\n",
              "      <td>94.589006</td>\n",
              "      <td>22.608010</td>\n",
              "      <td>116.039659</td>\n",
              "      <td>apple</td>\n",
              "    </tr>\n",
              "    <tr>\n",
              "      <th>3</th>\n",
              "      <td>120</td>\n",
              "      <td>8</td>\n",
              "      <td>201</td>\n",
              "      <td>6.321152</td>\n",
              "      <td>91.134357</td>\n",
              "      <td>21.186674</td>\n",
              "      <td>122.233323</td>\n",
              "      <td>apple</td>\n",
              "    </tr>\n",
              "    <tr>\n",
              "      <th>4</th>\n",
              "      <td>129</td>\n",
              "      <td>20</td>\n",
              "      <td>201</td>\n",
              "      <td>5.587906</td>\n",
              "      <td>91.699133</td>\n",
              "      <td>23.410447</td>\n",
              "      <td>116.077793</td>\n",
              "      <td>apple</td>\n",
              "    </tr>\n",
              "  </tbody>\n",
              "</table>\n",
              "</div>\n",
              "      <button class=\"colab-df-convert\" onclick=\"convertToInteractive('df-dc5a1e58-db5c-4096-bd46-588204f68704')\"\n",
              "              title=\"Convert this dataframe to an interactive table.\"\n",
              "              style=\"display:none;\">\n",
              "        \n",
              "  <svg xmlns=\"http://www.w3.org/2000/svg\" height=\"24px\"viewBox=\"0 0 24 24\"\n",
              "       width=\"24px\">\n",
              "    <path d=\"M0 0h24v24H0V0z\" fill=\"none\"/>\n",
              "    <path d=\"M18.56 5.44l.94 2.06.94-2.06 2.06-.94-2.06-.94-.94-2.06-.94 2.06-2.06.94zm-11 1L8.5 8.5l.94-2.06 2.06-.94-2.06-.94L8.5 2.5l-.94 2.06-2.06.94zm10 10l.94 2.06.94-2.06 2.06-.94-2.06-.94-.94-2.06-.94 2.06-2.06.94z\"/><path d=\"M17.41 7.96l-1.37-1.37c-.4-.4-.92-.59-1.43-.59-.52 0-1.04.2-1.43.59L10.3 9.45l-7.72 7.72c-.78.78-.78 2.05 0 2.83L4 21.41c.39.39.9.59 1.41.59.51 0 1.02-.2 1.41-.59l7.78-7.78 2.81-2.81c.8-.78.8-2.07 0-2.86zM5.41 20L4 18.59l7.72-7.72 1.47 1.35L5.41 20z\"/>\n",
              "  </svg>\n",
              "      </button>\n",
              "      \n",
              "  <style>\n",
              "    .colab-df-container {\n",
              "      display:flex;\n",
              "      flex-wrap:wrap;\n",
              "      gap: 12px;\n",
              "    }\n",
              "\n",
              "    .colab-df-convert {\n",
              "      background-color: #E8F0FE;\n",
              "      border: none;\n",
              "      border-radius: 50%;\n",
              "      cursor: pointer;\n",
              "      display: none;\n",
              "      fill: #1967D2;\n",
              "      height: 32px;\n",
              "      padding: 0 0 0 0;\n",
              "      width: 32px;\n",
              "    }\n",
              "\n",
              "    .colab-df-convert:hover {\n",
              "      background-color: #E2EBFA;\n",
              "      box-shadow: 0px 1px 2px rgba(60, 64, 67, 0.3), 0px 1px 3px 1px rgba(60, 64, 67, 0.15);\n",
              "      fill: #174EA6;\n",
              "    }\n",
              "\n",
              "    [theme=dark] .colab-df-convert {\n",
              "      background-color: #3B4455;\n",
              "      fill: #D2E3FC;\n",
              "    }\n",
              "\n",
              "    [theme=dark] .colab-df-convert:hover {\n",
              "      background-color: #434B5C;\n",
              "      box-shadow: 0px 1px 3px 1px rgba(0, 0, 0, 0.15);\n",
              "      filter: drop-shadow(0px 1px 2px rgba(0, 0, 0, 0.3));\n",
              "      fill: #FFFFFF;\n",
              "    }\n",
              "  </style>\n",
              "\n",
              "      <script>\n",
              "        const buttonEl =\n",
              "          document.querySelector('#df-dc5a1e58-db5c-4096-bd46-588204f68704 button.colab-df-convert');\n",
              "        buttonEl.style.display =\n",
              "          google.colab.kernel.accessAllowed ? 'block' : 'none';\n",
              "\n",
              "        async function convertToInteractive(key) {\n",
              "          const element = document.querySelector('#df-dc5a1e58-db5c-4096-bd46-588204f68704');\n",
              "          const dataTable =\n",
              "            await google.colab.kernel.invokeFunction('convertToInteractive',\n",
              "                                                     [key], {});\n",
              "          if (!dataTable) return;\n",
              "\n",
              "          const docLinkHtml = 'Like what you see? Visit the ' +\n",
              "            '<a target=\"_blank\" href=https://colab.research.google.com/notebooks/data_table.ipynb>data table notebook</a>'\n",
              "            + ' to learn more about interactive tables.';\n",
              "          element.innerHTML = '';\n",
              "          dataTable['output_type'] = 'display_data';\n",
              "          await google.colab.output.renderOutput(dataTable, element);\n",
              "          const docLink = document.createElement('div');\n",
              "          docLink.innerHTML = docLinkHtml;\n",
              "          element.appendChild(docLink);\n",
              "        }\n",
              "      </script>\n",
              "    </div>\n",
              "  </div>\n",
              "  "
            ],
            "text/plain": [
              "   Phosphorus  Nitrogen  Potassium   ...  temperature    rainfall  crops\n",
              "0         128        24         196  ...    22.750888  110.431786  apple\n",
              "1         144         7         197  ...    23.849401  114.051249  apple\n",
              "2         128        14         205  ...    22.608010  116.039659  apple\n",
              "3         120         8         201  ...    21.186674  122.233323  apple\n",
              "4         129        20         201  ...    23.410447  116.077793  apple\n",
              "\n",
              "[5 rows x 8 columns]"
            ]
          },
          "metadata": {},
          "execution_count": 1
        }
      ],
      "source": [
        "import pandas as pd\n",
        "import numpy as np\n",
        "import matplotlib.pyplot as plt\n",
        "\n",
        "from sklearn import preprocessing\n",
        "from sklearn.preprocessing import OneHotEncoder\n",
        "\n",
        "from sklearn.model_selection import train_test_split\n",
        "from sklearn import utils\n",
        "\n",
        "###############################################################################\n",
        "datainput = pd.read_csv(\"TAMILNADU_CROP_PRODUCTION.csv\")\n",
        "datainput.head()"
      ]
    },
    {
      "cell_type": "code",
      "source": [
        "#label encoder to categorical data \n",
        "labelencoder_X = preprocessing.LabelEncoder()\n",
        "datainput['crops'] = labelencoder_X.fit_transform(datainput['crops'])"
      ],
      "metadata": {
        "id": "8X5Eb0lo_fO6"
      },
      "execution_count": 2,
      "outputs": []
    },
    {
      "cell_type": "code",
      "source": [
        "x2 = datainput.drop('crops',axis=1)\n",
        "y = datainput['crops']\n",
        "\n",
        "from sklearn.preprocessing import StandardScaler\n",
        "sc = StandardScaler()\n",
        "x3 = sc.fit_transform(x2)\n",
        "#Splitting\n",
        "X_train, X_test, y_train, y_test = train_test_split(x3, y, test_size=0.3, random_state=3)"
      ],
      "metadata": {
        "id": "unOtzbQ0Cnz3"
      },
      "execution_count": 3,
      "outputs": []
    },
    {
      "cell_type": "code",
      "source": [
        "#MULTI LINEAR REGRESSION\n",
        "from sklearn.linear_model import LinearRegression\n",
        "from sklearn.metrics import r2_score\n",
        "from sklearn.metrics import mean_squared_error\n",
        "\n",
        "LR = LinearRegression()\n",
        "LR.fit(X_train,y_train)\n",
        "y_pred = LR.predict(X_test) \n",
        "# predicting the accuracy score\n",
        "score=r2_score(y_test,y_pred)\n",
        "print('R2 score  is ',score)\n",
        "print('mean_sqrd_error is==',mean_squared_error(y_test,y_pred))\n",
        "print('root_mean_squared error of is==',np.sqrt(mean_squared_error(y_test,y_pred)))"
      ],
      "metadata": {
        "colab": {
          "base_uri": "https://localhost:8080/"
        },
        "id": "3lxd8fDxGQUd",
        "outputId": "be7dcd20-d7da-454a-98f9-29b5cdf54dd9"
      },
      "execution_count": 4,
      "outputs": [
        {
          "output_type": "stream",
          "name": "stdout",
          "text": [
            "R2 score  is  0.29803903744494487\n",
            "mean_sqrd_error is== 29.032022496293525\n",
            "root_mean_squared error of is== 5.388137200952991\n"
          ]
        }
      ]
    },
    {
      "cell_type": "code",
      "source": [
        "#LOGISTIC REGRESSION\n",
        "from sklearn.linear_model import LogisticRegression \n",
        "from sklearn.metrics import confusion_matrix\n",
        "\n",
        "classifier = LogisticRegression(random_state = 0) \n",
        "classifier.fit(X_train, y_train) \n",
        "y_pred = classifier.predict(X_test) \n",
        "matrixForLR = confusion_matrix(y_test, y_pred)\n",
        "\n",
        "print(\"R2 score =\", round(r2_score(y_test, y_pred), 2))\n",
        "matrix = confusion_matrix(y_test, y_pred)\n",
        "\n",
        "from sklearn.metrics import classification_report\n",
        "result = classification_report(y_test,y_pred,labels=[1,0])\n",
        "print('Classification report : \\n',result)"
      ],
      "metadata": {
        "colab": {
          "base_uri": "https://localhost:8080/"
        },
        "id": "F5zV-xovC5ZT",
        "outputId": "6b802e38-1f66-44c1-938a-25706be3973e"
      },
      "execution_count": 5,
      "outputs": [
        {
          "output_type": "stream",
          "name": "stdout",
          "text": [
            "R2 score = 0.93\n",
            "Classification report : \n",
            "               precision    recall  f1-score   support\n",
            "\n",
            "           1       1.00      1.00      1.00        32\n",
            "           0       1.00      1.00      1.00        32\n",
            "\n",
            "   micro avg       1.00      1.00      1.00        64\n",
            "   macro avg       1.00      1.00      1.00        64\n",
            "weighted avg       1.00      1.00      1.00        64\n",
            "\n"
          ]
        }
      ]
    },
    {
      "cell_type": "code",
      "source": [
        "#Decision Tree Classifier\n",
        "from sklearn.tree import DecisionTreeClassifier\n",
        "classifier = DecisionTreeClassifier()\n",
        "classifier.fit(X_train, y_train)\n",
        "y_pred = classifier.predict(X_test)\n",
        "\n",
        "from sklearn.metrics import classification_report\n",
        "print(\"R2 score =\", round(r2_score(y_test, y_pred), 2))\n",
        "result = classification_report(y_test,y_pred,labels=[1,0])\n",
        "print('Classification report : \\n',result)"
      ],
      "metadata": {
        "colab": {
          "base_uri": "https://localhost:8080/"
        },
        "id": "rb7Yk8FXDkaE",
        "outputId": "225bc81d-d6c7-4355-a44a-766a7d2bebc8"
      },
      "execution_count": 6,
      "outputs": [
        {
          "output_type": "stream",
          "name": "stdout",
          "text": [
            "R2 score = 0.95\n",
            "Classification report : \n",
            "               precision    recall  f1-score   support\n",
            "\n",
            "           1       0.97      1.00      0.98        32\n",
            "           0       1.00      1.00      1.00        32\n",
            "\n",
            "   micro avg       0.98      1.00      0.99        64\n",
            "   macro avg       0.98      1.00      0.99        64\n",
            "weighted avg       0.98      1.00      0.99        64\n",
            "\n"
          ]
        }
      ]
    },
    {
      "cell_type": "code",
      "source": [
        "#Decision Tree Regressor\n",
        "from sklearn.tree import DecisionTreeRegressor \n",
        "regressor = DecisionTreeRegressor()\n",
        "regressor.fit(X_train, y_train)\n",
        "y_pred = regressor.predict(X_test)\n",
        "\n",
        "print(\"R2 score =\", round(r2_score(y_test, y_pred), 2))\n",
        "from sklearn.metrics import classification_report\n",
        "result = classification_report(y_test,y_pred,labels=[1,0])\n",
        "print('Classification report : \\n',result)"
      ],
      "metadata": {
        "colab": {
          "base_uri": "https://localhost:8080/"
        },
        "id": "W_Tk_HcyCwG5",
        "outputId": "5501b993-a843-423f-e3bd-04ebbfcb935f"
      },
      "execution_count": 8,
      "outputs": [
        {
          "output_type": "stream",
          "name": "stdout",
          "text": [
            "R2 score = 0.95\n",
            "Classification report : \n",
            "               precision    recall  f1-score   support\n",
            "\n",
            "           1       1.00      0.97      0.98        32\n",
            "           0       1.00      1.00      1.00        32\n",
            "\n",
            "   micro avg       1.00      0.98      0.99        64\n",
            "   macro avg       1.00      0.98      0.99        64\n",
            "weighted avg       1.00      0.98      0.99        64\n",
            "\n"
          ]
        }
      ]
    },
    {
      "cell_type": "code",
      "source": [
        "#KMEANS CLUSTERING\n",
        "from sklearn.neighbors import KNeighborsClassifier \n",
        "knn = KNeighborsClassifier(n_neighbors=7) \n",
        "knn.fit(X_train, y_train) \n",
        "  \n",
        "# Predict on dataset which model has not seen before \n",
        "print(knn.predict(X_test)) \n",
        "print(knn.score(X_test, y_test)) \n",
        "\n",
        "from sklearn.cluster import KMeans\n",
        "wcss = []\n",
        "for i in range(1, 30):\n",
        "    kmeans = KMeans(n_clusters = i, init = 'k-means++', random_state = 42)\n",
        "    kmeans.fit(x3)\n",
        "    wcss.append(kmeans.inertia_)\n",
        "    \n",
        "plt.plot(range(1, 30), wcss)\n",
        "plt.title('The Elbow Method')\n",
        "plt.xlabel('Number of clusters')\n",
        "plt.ylabel('WCSS')\n",
        "plt.show()\n",
        "\n",
        "kmeans = KMeans(n_clusters = 3, init = 'k-means++', random_state = 42)\n",
        "y_kmeans = kmeans.fit_predict(x3)"
      ],
      "metadata": {
        "colab": {
          "base_uri": "https://localhost:8080/",
          "height": 798
        },
        "id": "0PI4_sBBDa9X",
        "outputId": "d9e15177-b7ec-426d-b65d-b804d404e82b"
      },
      "execution_count": 9,
      "outputs": [
        {
          "output_type": "stream",
          "name": "stdout",
          "text": [
            "[17 16 18 18  9 12 11 18  9  8  5 17 21  4 14 14 14  4 11  2 19 12  7  3\n",
            "  3 20  3  0  3 16 14 12  5 12  0  1 10  8 18 17 11 20 10  8 12  3  1 21\n",
            "  2 15  3 20  7  2  6 20 21 11  5 14 18  3  5 10  7 21  2 15 13 15 16  6\n",
            " 16  3 12  5 20 13 14 19 12 18 16 12  5  9 14  6  1 20  4  2 17  4 13 20\n",
            " 15  6 12  8 10 20  6 10  9 14 10 16 17  5 10  8  0 18  1 21  4  8  0  1\n",
            "  4 14 18  6 20  6  6 16  1  8 13 14 16 11  7  2  6 21  7 14  7  5 19 15\n",
            "  2 16 12  5  9  2 15  2  6 14  6  4 21 11  7 18 10  0  3  0  9  0  0 19\n",
            " 14 17  0  2  0 16  5 14  2  7 10 15  6  0 10  4 15 16 16  4 12 20 20  5\n",
            " 18  0 11  4 21 12 14  0 18  4  3 12 21  3  2  6  3  3  0  2  1  8 16  3\n",
            "  8 18 13  9  8  3 12  9  9 15  0  1  7 13  7  4 19  1 10 21 10 13  2 14\n",
            " 16 13 13 13  7  7 18  5 12 21 12  6 21 19 21 11 19  2 21  6 18 17  1  2\n",
            " 21  3  4  8  9  1 17 18 19 19  1 20  5  9  1  8  2 13  8 21 17 10 11 13\n",
            "  7 11  0 11  4 11 12 14  7  0 21 14  7  3 16 13 11 19  4  5 12  9 13 15\n",
            "  9 14  8 21 18  8 15 11  9  4  1  1 14  7 17 11 18  0  3  8  1 17  4 18\n",
            " 12 13 17 17 20 11  0  7 16  2 19 12  0  5  2 15 12 19 14 15  9  1  1 21\n",
            " 15 18 13 18  8  5 10 10  3 21  3 16 21  4  9 19  2  7 18 11  2 17  0  8\n",
            "  0  4  1 12  4 15 16 12 11 11 16 21  3 20  5  9  0 19 14 10 21 18  6 15\n",
            "  8 17 11  8 19 16  8  8 13 18 16  2 21 19  8 18  7 19  9 17  4  5 11 12\n",
            " 10 15 21  9 17 14 18 14  2  0 15 21 10  3 18 14 15  1 16  2 14  9  3 12\n",
            " 18 15 11  3  6 10  3 10 13 17 17  1 11  3 18  4 15  4  2 21 20 21  5 11\n",
            "  0 13 20 10  9 19  4  1 10  8  0 13  2 19 19  4 15  2  8 20 15 12  8 14\n",
            "  5 19 10  8  8 19  1  5  0 13  2  1  8  6  8 18  2  1 15  8 17 12  2  9\n",
            "  1 21 14  8 13  2  1 16  3  6  9 16 14  1 16  1 20 19  2 19 14 16  8 10\n",
            " 13 19 12  5 21  7 18  2  0 11 17  5 16  3 13  9 18  2  7 10  1  7 10  9\n",
            "  6 21  3 19 10 12 17  9  9 20 19  4  4  4  3 12  3  5 19 11 15  8  1  4\n",
            "  4  0 11 13 11 16  0  9 11 18  2 10  5  5  6 14  6  5 20 20  0 15 17 18\n",
            " 11  2 12 13 16 15  3 17 17 12 12  6 18 12 15  7  7 14 18  1 19 11 21 12\n",
            "  9 14 12 12 10  0  7  6 14  3 21  8]\n",
            "0.9712121212121212\n"
          ]
        },
        {
          "output_type": "display_data",
          "data": {
            "image/png": "[encoded data removed]",
            "text/plain": [
              "<Figure size 432x288 with 1 Axes>"
            ]
          },
          "metadata": {
            "needs_background": "light"
          }
        }
      ]
    },
    {
      "cell_type": "code",
      "source": [
        "#RANDOM FOREST \n",
        "from sklearn.ensemble import RandomForestClassifier\n",
        "\n",
        "classifier = RandomForestClassifier(n_estimators = 101, random_state = 42)\n",
        "classifier.fit(X_train, y_train)\n",
        "\n",
        "# Predicting a new result\n",
        "y_pred = classifier.predict(X_test)\n",
        "\n",
        "print(\"R2 score =\", round(r2_score(y_test, y_pred), 2))\n",
        "y_pred = classifier.predict(X_test) \n",
        "\n",
        "from sklearn.metrics import classification_report\n",
        "result = classification_report(y_test,y_pred,labels=[1,0])\n",
        "print('Classification report : \\n',result)"
      ],
      "metadata": {
        "colab": {
          "base_uri": "https://localhost:8080/"
        },
        "id": "B_wr2zreDbG0",
        "outputId": "9d90f676-5fe8-49c3-8c7c-0b54d73625f0"
      },
      "execution_count": 13,
      "outputs": [
        {
          "output_type": "stream",
          "name": "stdout",
          "text": [
            "R2 score = 1.0\n",
            "Classification report : \n",
            "               precision    recall  f1-score   support\n",
            "\n",
            "           1       1.00      1.00      1.00        32\n",
            "           0       1.00      1.00      1.00        32\n",
            "\n",
            "   micro avg       1.00      1.00      1.00        64\n",
            "   macro avg       1.00      1.00      1.00        64\n",
            "weighted avg       1.00      1.00      1.00        64\n",
            "\n"
          ]
        }
      ]
    },
    {
      "cell_type": "code",
      "source": [
        "import pickle\n",
        "pickle.dump(classifier, open('tncroprandomforest.pkl', 'wb'))"
      ],
      "metadata": {
        "id": "TU7vFVVj4dtU"
      },
      "execution_count": 15,
      "outputs": []
    },
    {
      "cell_type": "code",
      "source": [
        "#KNN CLASSIFICATION\n",
        "from sklearn import neighbors\n",
        "from sklearn.metrics import mean_squared_error \n",
        "from math import sqrt\n",
        "import matplotlib.pyplot as plt\n",
        "\n",
        "rmse_val = [] #to store rmse values for different k\n",
        "for K in range(20):\n",
        "    K = K+1\n",
        "    model = neighbors.KNeighborsRegressor(n_neighbors = K)\n",
        "\n",
        "    model.fit(X_train, y_train)  #fit the model\n",
        "    pred=model.predict(X_test) #make prediction on test set\n",
        "    error = sqrt(mean_squared_error(y_test,pred)) #calculate rmse\n",
        "    rmse_val.append(error) #store rmse values\n",
        "    print('RMSE value for k= ' , K , 'is:', error)\n",
        "\n",
        "curve = pd.DataFrame(rmse_val) #elbow curve \n",
        "curve.plot()\n",
        "\n",
        "from sklearn.neighbors import KNeighborsClassifier\n",
        "\n",
        "regressor = neighbors.KNeighborsRegressor(n_neighbors = 4)\n",
        "regressor.fit(X_train, y_train)\n",
        "\n",
        "# Predicting the Test set results\n",
        "y_pred = regressor.predict(X_test)\n",
        "error = sqrt(mean_squared_error(y_test,y_pred)) #calculate rmse\n",
        "rmse_val.append(error)\n",
        "\n",
        "print(error)"
      ],
      "metadata": {
        "colab": {
          "base_uri": "https://localhost:8080/",
          "height": 630
        },
        "id": "IccgBBwbaxz7",
        "outputId": "1f41ae17-d93b-4a31-91a0-d5c1f2cf551c"
      },
      "execution_count": 11,
      "outputs": [
        {
          "output_type": "stream",
          "name": "stdout",
          "text": [
            "RMSE value for k=  1 is: 1.3662601021279464\n",
            "RMSE value for k=  2 is: 1.3035499316261054\n",
            "RMSE value for k=  3 is: 1.2100866763623854\n",
            "RMSE value for k=  4 is: 1.149769410347004\n",
            "RMSE value for k=  5 is: 1.1624165007483853\n",
            "RMSE value for k=  6 is: 1.2376664259073127\n",
            "RMSE value for k=  7 is: 1.2873006086935783\n",
            "RMSE value for k=  8 is: 1.3281266711219433\n",
            "RMSE value for k=  9 is: 1.3559874015440843\n",
            "RMSE value for k=  10 is: 1.3879950659243363\n",
            "RMSE value for k=  11 is: 1.4003282145410658\n",
            "RMSE value for k=  12 is: 1.4422562582558325\n",
            "RMSE value for k=  13 is: 1.473743664042361\n",
            "RMSE value for k=  14 is: 1.4717369281405026\n",
            "RMSE value for k=  15 is: 1.4961701950397397\n",
            "RMSE value for k=  16 is: 1.5232183457363815\n",
            "RMSE value for k=  17 is: 1.558493894451187\n",
            "RMSE value for k=  18 is: 1.570967423505791\n",
            "RMSE value for k=  19 is: 1.5852796998274892\n",
            "RMSE value for k=  20 is: 1.5974672188034142\n",
            "1.149769410347004\n"
          ]
        },
        {
          "output_type": "display_data",
          "data": {
            "image/png": "[encoded data removed]",
            "text/plain": [
              "<Figure size 432x288 with 1 Axes>"
            ]
          },
          "metadata": {
            "needs_background": "light"
          }
        }
      ]
    }
  ]
}